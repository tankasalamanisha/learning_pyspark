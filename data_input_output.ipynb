{
 "cells": [
  {
   "cell_type": "markdown",
   "metadata": {},
   "source": [
    "## Importing dependencies"
   ]
  },
  {
   "cell_type": "code",
   "execution_count": 30,
   "metadata": {},
   "outputs": [],
   "source": [
    "from pyspark.sql import SparkSession\n",
    "import pyspark.sql.functions as f\n",
    "\n",
    "import seaborn as sns\n",
    "import pandas as pd\n",
    "import numpy as np"
   ]
  },
  {
   "cell_type": "markdown",
   "metadata": {},
   "source": [
    "## Loading dataset"
   ]
  },
  {
   "cell_type": "code",
   "execution_count": 2,
   "metadata": {},
   "outputs": [
    {
     "data": {
      "text/plain": [
       "['anagrams',\n",
       " 'anscombe',\n",
       " 'attention',\n",
       " 'brain_networks',\n",
       " 'car_crashes',\n",
       " 'diamonds',\n",
       " 'dots',\n",
       " 'dowjones',\n",
       " 'exercise',\n",
       " 'flights',\n",
       " 'fmri',\n",
       " 'geyser',\n",
       " 'glue',\n",
       " 'healthexp',\n",
       " 'iris',\n",
       " 'mpg',\n",
       " 'penguins',\n",
       " 'planets',\n",
       " 'seaice',\n",
       " 'taxis',\n",
       " 'tips',\n",
       " 'titanic']"
      ]
     },
     "execution_count": 2,
     "metadata": {},
     "output_type": "execute_result"
    }
   ],
   "source": [
    "sns.get_dataset_names()"
   ]
  },
  {
   "cell_type": "code",
   "execution_count": 3,
   "metadata": {},
   "outputs": [],
   "source": [
    "data = sns.load_dataset('taxis')"
   ]
  },
  {
   "cell_type": "code",
   "execution_count": 4,
   "metadata": {},
   "outputs": [
    {
     "data": {
      "text/html": [
       "<div>\n",
       "<style scoped>\n",
       "    .dataframe tbody tr th:only-of-type {\n",
       "        vertical-align: middle;\n",
       "    }\n",
       "\n",
       "    .dataframe tbody tr th {\n",
       "        vertical-align: top;\n",
       "    }\n",
       "\n",
       "    .dataframe thead th {\n",
       "        text-align: right;\n",
       "    }\n",
       "</style>\n",
       "<table border=\"1\" class=\"dataframe\">\n",
       "  <thead>\n",
       "    <tr style=\"text-align: right;\">\n",
       "      <th></th>\n",
       "      <th>pickup</th>\n",
       "      <th>dropoff</th>\n",
       "      <th>passengers</th>\n",
       "      <th>distance</th>\n",
       "      <th>fare</th>\n",
       "      <th>tip</th>\n",
       "      <th>tolls</th>\n",
       "      <th>total</th>\n",
       "      <th>color</th>\n",
       "      <th>payment</th>\n",
       "      <th>pickup_zone</th>\n",
       "      <th>dropoff_zone</th>\n",
       "      <th>pickup_borough</th>\n",
       "      <th>dropoff_borough</th>\n",
       "    </tr>\n",
       "  </thead>\n",
       "  <tbody>\n",
       "    <tr>\n",
       "      <th>0</th>\n",
       "      <td>2019-03-23 20:21:09</td>\n",
       "      <td>2019-03-23 20:27:24</td>\n",
       "      <td>1</td>\n",
       "      <td>1.60</td>\n",
       "      <td>7.0</td>\n",
       "      <td>2.15</td>\n",
       "      <td>0.0</td>\n",
       "      <td>12.95</td>\n",
       "      <td>yellow</td>\n",
       "      <td>credit card</td>\n",
       "      <td>Lenox Hill West</td>\n",
       "      <td>UN/Turtle Bay South</td>\n",
       "      <td>Manhattan</td>\n",
       "      <td>Manhattan</td>\n",
       "    </tr>\n",
       "    <tr>\n",
       "      <th>1</th>\n",
       "      <td>2019-03-04 16:11:55</td>\n",
       "      <td>2019-03-04 16:19:00</td>\n",
       "      <td>1</td>\n",
       "      <td>0.79</td>\n",
       "      <td>5.0</td>\n",
       "      <td>0.00</td>\n",
       "      <td>0.0</td>\n",
       "      <td>9.30</td>\n",
       "      <td>yellow</td>\n",
       "      <td>cash</td>\n",
       "      <td>Upper West Side South</td>\n",
       "      <td>Upper West Side South</td>\n",
       "      <td>Manhattan</td>\n",
       "      <td>Manhattan</td>\n",
       "    </tr>\n",
       "    <tr>\n",
       "      <th>2</th>\n",
       "      <td>2019-03-27 17:53:01</td>\n",
       "      <td>2019-03-27 18:00:25</td>\n",
       "      <td>1</td>\n",
       "      <td>1.37</td>\n",
       "      <td>7.5</td>\n",
       "      <td>2.36</td>\n",
       "      <td>0.0</td>\n",
       "      <td>14.16</td>\n",
       "      <td>yellow</td>\n",
       "      <td>credit card</td>\n",
       "      <td>Alphabet City</td>\n",
       "      <td>West Village</td>\n",
       "      <td>Manhattan</td>\n",
       "      <td>Manhattan</td>\n",
       "    </tr>\n",
       "    <tr>\n",
       "      <th>3</th>\n",
       "      <td>2019-03-10 01:23:59</td>\n",
       "      <td>2019-03-10 01:49:51</td>\n",
       "      <td>1</td>\n",
       "      <td>7.70</td>\n",
       "      <td>27.0</td>\n",
       "      <td>6.15</td>\n",
       "      <td>0.0</td>\n",
       "      <td>36.95</td>\n",
       "      <td>yellow</td>\n",
       "      <td>credit card</td>\n",
       "      <td>Hudson Sq</td>\n",
       "      <td>Yorkville West</td>\n",
       "      <td>Manhattan</td>\n",
       "      <td>Manhattan</td>\n",
       "    </tr>\n",
       "    <tr>\n",
       "      <th>4</th>\n",
       "      <td>2019-03-30 13:27:42</td>\n",
       "      <td>2019-03-30 13:37:14</td>\n",
       "      <td>3</td>\n",
       "      <td>2.16</td>\n",
       "      <td>9.0</td>\n",
       "      <td>1.10</td>\n",
       "      <td>0.0</td>\n",
       "      <td>13.40</td>\n",
       "      <td>yellow</td>\n",
       "      <td>credit card</td>\n",
       "      <td>Midtown East</td>\n",
       "      <td>Yorkville West</td>\n",
       "      <td>Manhattan</td>\n",
       "      <td>Manhattan</td>\n",
       "    </tr>\n",
       "  </tbody>\n",
       "</table>\n",
       "</div>"
      ],
      "text/plain": [
       "               pickup             dropoff  passengers  distance  fare   tip  \\\n",
       "0 2019-03-23 20:21:09 2019-03-23 20:27:24           1      1.60   7.0  2.15   \n",
       "1 2019-03-04 16:11:55 2019-03-04 16:19:00           1      0.79   5.0  0.00   \n",
       "2 2019-03-27 17:53:01 2019-03-27 18:00:25           1      1.37   7.5  2.36   \n",
       "3 2019-03-10 01:23:59 2019-03-10 01:49:51           1      7.70  27.0  6.15   \n",
       "4 2019-03-30 13:27:42 2019-03-30 13:37:14           3      2.16   9.0  1.10   \n",
       "\n",
       "   tolls  total   color      payment            pickup_zone  \\\n",
       "0    0.0  12.95  yellow  credit card        Lenox Hill West   \n",
       "1    0.0   9.30  yellow         cash  Upper West Side South   \n",
       "2    0.0  14.16  yellow  credit card          Alphabet City   \n",
       "3    0.0  36.95  yellow  credit card              Hudson Sq   \n",
       "4    0.0  13.40  yellow  credit card           Midtown East   \n",
       "\n",
       "            dropoff_zone pickup_borough dropoff_borough  \n",
       "0    UN/Turtle Bay South      Manhattan       Manhattan  \n",
       "1  Upper West Side South      Manhattan       Manhattan  \n",
       "2           West Village      Manhattan       Manhattan  \n",
       "3         Yorkville West      Manhattan       Manhattan  \n",
       "4         Yorkville West      Manhattan       Manhattan  "
      ]
     },
     "execution_count": 4,
     "metadata": {},
     "output_type": "execute_result"
    }
   ],
   "source": [
    "data.head()"
   ]
  },
  {
   "cell_type": "markdown",
   "metadata": {},
   "source": [
    "## Creating a spark session and converting to a spark dataframe"
   ]
  },
  {
   "cell_type": "code",
   "execution_count": 23,
   "metadata": {},
   "outputs": [
    {
     "name": "stderr",
     "output_type": "stream",
     "text": [
      "/home/codespace/.python/current/lib/python3.10/site-packages/pyspark/sql/pandas/conversion.py:485: FutureWarning: is_datetime64tz_dtype is deprecated and will be removed in a future version. Check `isinstance(dtype, pd.DatetimeTZDtype)` instead.\n",
      "  if should_localize and is_datetime64tz_dtype(s.dtype) and s.dt.tz is not None:\n"
     ]
    }
   ],
   "source": [
    "spark = SparkSession.builder.appName(\"Learning Spark\").getOrCreate()\n",
    "\n",
    "data_spark = spark.createDataFrame(data)"
   ]
  },
  {
   "cell_type": "code",
   "execution_count": 24,
   "metadata": {},
   "outputs": [
    {
     "name": "stdout",
     "output_type": "stream",
     "text": [
      "+-------------------+-------------------+----------+--------+----+----+-----+-----+------+-----------+---------------+-------------------+--------------+---------------+\n",
      "|             pickup|            dropoff|passengers|distance|fare| tip|tolls|total| color|    payment|    pickup_zone|       dropoff_zone|pickup_borough|dropoff_borough|\n",
      "+-------------------+-------------------+----------+--------+----+----+-----+-----+------+-----------+---------------+-------------------+--------------+---------------+\n",
      "|2019-03-23 20:21:09|2019-03-23 20:27:24|         1|     1.6| 7.0|2.15|  0.0|12.95|yellow|credit card|Lenox Hill West|UN/Turtle Bay South|     Manhattan|      Manhattan|\n",
      "+-------------------+-------------------+----------+--------+----+----+-----+-----+------+-----------+---------------+-------------------+--------------+---------------+\n",
      "only showing top 1 row\n",
      "\n"
     ]
    }
   ],
   "source": [
    "data_spark.show(1)"
   ]
  },
  {
   "cell_type": "markdown",
   "metadata": {},
   "source": [
    "## Comparing operations in pandas and pyspark:\n",
    "##### 1. pandasDataFrame.info() vs pysparkDataFrame.printSchema()"
   ]
  },
  {
   "cell_type": "code",
   "execution_count": 25,
   "metadata": {},
   "outputs": [
    {
     "name": "stdout",
     "output_type": "stream",
     "text": [
      "<class 'pandas.core.frame.DataFrame'>\n",
      "RangeIndex: 6433 entries, 0 to 6432\n",
      "Data columns (total 14 columns):\n",
      " #   Column           Non-Null Count  Dtype         \n",
      "---  ------           --------------  -----         \n",
      " 0   pickup           6433 non-null   datetime64[ns]\n",
      " 1   dropoff          6433 non-null   datetime64[ns]\n",
      " 2   passengers       6433 non-null   int64         \n",
      " 3   distance         6433 non-null   float64       \n",
      " 4   fare             6433 non-null   float64       \n",
      " 5   tip              6433 non-null   float64       \n",
      " 6   tolls            6433 non-null   float64       \n",
      " 7   total            6433 non-null   float64       \n",
      " 8   color            6433 non-null   object        \n",
      " 9   payment          6389 non-null   object        \n",
      " 10  pickup_zone      6407 non-null   object        \n",
      " 11  dropoff_zone     6388 non-null   object        \n",
      " 12  pickup_borough   6407 non-null   object        \n",
      " 13  dropoff_borough  6388 non-null   object        \n",
      "dtypes: datetime64[ns](2), float64(5), int64(1), object(6)\n",
      "memory usage: 703.7+ KB\n"
     ]
    }
   ],
   "source": [
    "data.info()"
   ]
  },
  {
   "cell_type": "code",
   "execution_count": 26,
   "metadata": {},
   "outputs": [
    {
     "name": "stdout",
     "output_type": "stream",
     "text": [
      "root\n",
      " |-- pickup: timestamp (nullable = true)\n",
      " |-- dropoff: timestamp (nullable = true)\n",
      " |-- passengers: long (nullable = true)\n",
      " |-- distance: double (nullable = true)\n",
      " |-- fare: double (nullable = true)\n",
      " |-- tip: double (nullable = true)\n",
      " |-- tolls: double (nullable = true)\n",
      " |-- total: double (nullable = true)\n",
      " |-- color: string (nullable = true)\n",
      " |-- payment: string (nullable = true)\n",
      " |-- pickup_zone: string (nullable = true)\n",
      " |-- dropoff_zone: string (nullable = true)\n",
      " |-- pickup_borough: string (nullable = true)\n",
      " |-- dropoff_borough: string (nullable = true)\n",
      "\n"
     ]
    }
   ],
   "source": [
    "data_spark.printSchema()"
   ]
  },
  {
   "cell_type": "markdown",
   "metadata": {},
   "source": [
    "## String split operations in one column"
   ]
  },
  {
   "cell_type": "code",
   "execution_count": 34,
   "metadata": {},
   "outputs": [
    {
     "data": {
      "text/plain": [
       "{'Upper East Side North': 245,\n",
       " 'Murray Hill': 220,\n",
       " 'Midtown Center': 215,\n",
       " 'Upper East Side South': 177,\n",
       " 'Midtown East': 176,\n",
       " 'Times Sq/Theatre District': 160,\n",
       " 'Lincoln Square East': 156,\n",
       " 'Clinton East': 151,\n",
       " 'East Village': 150,\n",
       " 'Penn Station/Madison Sq West': 148,\n",
       " 'Union Sq': 139,\n",
       " 'Upper West Side South': 135,\n",
       " 'Lenox Hill West': 134,\n",
       " 'Midtown North': 131,\n",
       " 'Upper West Side North': 130,\n",
       " 'East Chelsea': 120,\n",
       " 'Midtown South': 116,\n",
       " 'Lenox Hill East': 112,\n",
       " 'Gramercy': 112,\n",
       " 'Yorkville West': 107,\n",
       " 'East Harlem South': 104,\n",
       " 'West Village': 101,\n",
       " 'West Chelsea/Hudson Yards': 101,\n",
       " 'Sutton Place/Turtle Bay North': 99,\n",
       " 'Garment District': 97,\n",
       " 'UN/Turtle Bay South': 95,\n",
       " 'TriBeCa/Civic Center': 81,\n",
       " 'Central Park': 81,\n",
       " 'Greenwich Village North': 78,\n",
       " 'Kips Bay': 76,\n",
       " 'Flatiron': 74,\n",
       " 'Lower East Side': 73,\n",
       " 'Central Harlem North': 69,\n",
       " 'Lincoln Square West': 69,\n",
       " 'Clinton West': 66,\n",
       " 'East Harlem North': 65,\n",
       " 'LaGuardia Airport': 65,\n",
       " 'Yorkville East': 65,\n",
       " 'Central Harlem': 63,\n",
       " 'Manhattan Valley': 60,\n",
       " 'Greenwich Village South': 58,\n",
       " 'JFK Airport': 56,\n",
       " 'Morningside Heights': 55,\n",
       " 'Meatpacking/West Village West': 55,\n",
       " 'Astoria': 55,\n",
       " 'Little Italy/NoLiTa': 54,\n",
       " 'Battery Park City': 48,\n",
       " nan: 45,\n",
       " 'Financial District North': 38,\n",
       " 'Jackson Heights': 34,\n",
       " 'Washington Heights South': 33,\n",
       " 'Park Slope': 32,\n",
       " 'SoHo': 31,\n",
       " 'Hudson Sq': 31,\n",
       " 'Alphabet City': 31,\n",
       " 'Fort Greene': 30,\n",
       " 'Crown Heights North': 30,\n",
       " 'Brooklyn Heights': 29,\n",
       " 'Two Bridges/Seward Park': 29,\n",
       " 'Long Island City/Hunters Point': 28,\n",
       " 'Sunnyside': 28,\n",
       " 'Boerum Hill': 27,\n",
       " 'Financial District South': 25,\n",
       " 'Hamilton Heights': 25,\n",
       " 'Stuy Town/Peter Cooper Village': 23,\n",
       " 'World Trade Center': 23,\n",
       " 'Clinton Hill': 22,\n",
       " 'Elmhurst': 22,\n",
       " 'Woodside': 21,\n",
       " 'Steinway': 21,\n",
       " 'Forest Hills': 21,\n",
       " 'Old Astoria': 19,\n",
       " 'Downtown Brooklyn/MetroTech': 19,\n",
       " 'Seaport': 18,\n",
       " 'Queensbridge/Ravenswood': 17,\n",
       " 'Bloomingdale': 17,\n",
       " 'Williamsburg (North Side)': 16,\n",
       " 'Flatbush/Ditmas Park': 15,\n",
       " 'Manhattanville': 15,\n",
       " 'Washington Heights North': 15,\n",
       " 'Bedford': 15,\n",
       " 'DUMBO/Vinegar Hill': 14,\n",
       " 'Williamsburg (South Side)': 14,\n",
       " 'Greenpoint': 14,\n",
       " 'East Concourse/Concourse Village': 14,\n",
       " 'East Williamsburg': 13,\n",
       " 'Carroll Gardens': 13,\n",
       " 'Stuyvesant Heights': 13,\n",
       " 'Cobble Hill': 13,\n",
       " 'Bushwick South': 12,\n",
       " 'South Ozone Park': 11,\n",
       " 'Bushwick North': 11,\n",
       " 'Crown Heights South': 11,\n",
       " 'Chinatown': 11,\n",
       " 'East New York': 11,\n",
       " 'West Concourse': 10,\n",
       " 'Melrose South': 10,\n",
       " 'Columbia Street': 9,\n",
       " 'Prospect-Lefferts Gardens': 9,\n",
       " 'Hillcrest/Pomonok': 9,\n",
       " 'Mott Haven/Port Morris': 8,\n",
       " 'Flatlands': 8,\n",
       " 'North Corona': 8,\n",
       " 'Canarsie': 8,\n",
       " 'Inwood': 8,\n",
       " 'Middle Village': 8,\n",
       " 'Norwood': 7,\n",
       " 'Richmond Hill': 7,\n",
       " 'Rego Park': 7,\n",
       " 'Long Island City/Queens Plaza': 7,\n",
       " 'Prospect Heights': 7,\n",
       " 'University Heights/Morris Heights': 7,\n",
       " 'Baisley Park': 7,\n",
       " 'Midwood': 7,\n",
       " 'Riverdale/North Riverdale/Fieldston': 6,\n",
       " 'East Tremont': 6,\n",
       " 'Soundview/Castle Hill': 6,\n",
       " 'Sunset Park West': 6,\n",
       " 'Gowanus': 5,\n",
       " 'Sheepshead Bay': 5,\n",
       " 'Cypress Hills': 5,\n",
       " 'Bay Ridge': 5,\n",
       " 'Jamaica': 5,\n",
       " 'Maspeth': 5,\n",
       " 'Flushing Meadows-Corona Park': 5,\n",
       " 'Corona': 5,\n",
       " 'Red Hook': 5,\n",
       " 'Briarwood/Jamaica Hills': 5,\n",
       " 'Ridgewood': 5,\n",
       " 'Ocean Hill': 5,\n",
       " 'East Elmhurst': 5,\n",
       " 'Van Nest/Morris Park': 4,\n",
       " 'Belmont': 4,\n",
       " 'Co-Op City': 4,\n",
       " 'East Flatbush/Remsen Village': 4,\n",
       " 'Gravesend': 4,\n",
       " 'Starrett City': 4,\n",
       " 'Spuyten Duyvil/Kingsbridge': 4,\n",
       " 'Kingsbridge Heights': 4,\n",
       " 'Brownsville': 4,\n",
       " 'Murray Hill-Queens': 4,\n",
       " 'Highbridge': 4,\n",
       " 'Williamsbridge/Olinville': 4,\n",
       " 'Glendale': 4,\n",
       " 'Elmhurst/Maspeth': 4,\n",
       " 'Mount Hope': 3,\n",
       " 'Queens Village': 3,\n",
       " 'South Jamaica': 3,\n",
       " 'Soundview/Bruckner': 3,\n",
       " 'Van Cortlandt Village': 3,\n",
       " 'Fresh Meadows': 3,\n",
       " 'Kew Gardens Hills': 3,\n",
       " 'Howard Beach': 3,\n",
       " 'South Williamsburg': 3,\n",
       " 'Hunts Point': 3,\n",
       " 'Dyker Heights': 3,\n",
       " 'Bayside': 3,\n",
       " 'Manhattan Beach': 3,\n",
       " 'Battery Park': 3,\n",
       " 'Parkchester': 3,\n",
       " 'Kew Gardens': 3,\n",
       " 'Bronxdale': 3,\n",
       " 'Roosevelt Island': 3,\n",
       " 'Marble Hill': 3,\n",
       " 'Saint Albans': 3,\n",
       " 'Rosedale': 3,\n",
       " 'Bedford Park': 2,\n",
       " 'Claremont/Bathgate': 2,\n",
       " 'Borough Park': 2,\n",
       " 'Flushing': 2,\n",
       " 'Westchester Village/Unionport': 2,\n",
       " 'Eastchester': 2,\n",
       " 'College Point': 2,\n",
       " 'Cambria Heights': 2,\n",
       " 'Woodhaven': 2,\n",
       " 'Marine Park/Mill Basin': 2,\n",
       " 'Pelham Parkway': 2,\n",
       " 'Crotona Park East': 2,\n",
       " 'Bensonhurst West': 2,\n",
       " 'East Flatbush/Farragut': 2,\n",
       " 'Prospect Park': 2,\n",
       " 'Allerton/Pelham Gardens': 2,\n",
       " 'Woodlawn/Wakefield': 2,\n",
       " 'Randalls Island': 2,\n",
       " 'Windsor Terrace': 2,\n",
       " 'Homecrest': 1,\n",
       " 'Douglaston': 1,\n",
       " 'Auburndale': 1,\n",
       " 'Madison': 1,\n",
       " 'Morrisania/Melrose': 1,\n",
       " 'Queensboro Hill': 1,\n",
       " 'West Brighton': 1,\n",
       " 'Bath Beach': 1,\n",
       " 'Brooklyn Navy Yard': 1,\n",
       " 'Oakland Gardens': 1,\n",
       " 'Jamaica Estates': 1,\n",
       " 'Inwood Hill Park': 1,\n",
       " 'Stapleton': 1,\n",
       " 'Whitestone': 1,\n",
       " 'Bensonhurst East': 1,\n",
       " 'Springfield Gardens South': 1,\n",
       " 'East Flushing': 1,\n",
       " 'Brighton Beach': 1,\n",
       " 'Ozone Park': 1}"
      ]
     },
     "execution_count": 34,
     "metadata": {},
     "output_type": "execute_result"
    }
   ],
   "source": [
    "data[\"dropoff_zone\"].value_counts(dropna=False).to_dict()"
   ]
  },
  {
   "cell_type": "code",
   "execution_count": 40,
   "metadata": {},
   "outputs": [
    {
     "ename": "TypeError",
     "evalue": "'NoneType' object is not subscriptable",
     "output_type": "error",
     "traceback": [
      "\u001b[0;31m---------------------------------------------------------------------------\u001b[0m",
      "\u001b[0;31mTypeError\u001b[0m                                 Traceback (most recent call last)",
      "\u001b[1;32m/workspaces/learning_pyspark/data_input_output.ipynb Cell 15\u001b[0m line \u001b[0;36m1\n\u001b[1;32m     <a href='vscode-notebook-cell://codespaces%2Bbookish-happiness-q6rvpq5prv5f44q6/workspaces/learning_pyspark/data_input_output.ipynb#X22sdnNjb2RlLXJlbW90ZQ%3D%3D?line=11'>12</a>\u001b[0m     \u001b[39mexcept\u001b[39;00m \u001b[39mTypeError\u001b[39;00m \u001b[39mas\u001b[39;00m te:\n\u001b[1;32m     <a href='vscode-notebook-cell://codespaces%2Bbookish-happiness-q6rvpq5prv5f44q6/workspaces/learning_pyspark/data_input_output.ipynb#X22sdnNjb2RlLXJlbW90ZQ%3D%3D?line=12'>13</a>\u001b[0m         \u001b[39mreturn\u001b[39;00m (np\u001b[39m.\u001b[39mnan,np\u001b[39m.\u001b[39mnan)\n\u001b[0;32m---> <a href='vscode-notebook-cell://codespaces%2Bbookish-happiness-q6rvpq5prv5f44q6/workspaces/learning_pyspark/data_input_output.ipynb#X22sdnNjb2RlLXJlbW90ZQ%3D%3D?line=14'>15</a>\u001b[0m data[\u001b[39m\"\u001b[39m\u001b[39marea\u001b[39m\u001b[39m\"\u001b[39m]\u001b[39m=\u001b[39mdata[\u001b[39m\"\u001b[39;49m\u001b[39mdropoff_zone\u001b[39;49m\u001b[39m\"\u001b[39;49m]\u001b[39m.\u001b[39;49mapply(\u001b[39mlambda\u001b[39;49;00m x:split_function(x)[\u001b[39m0\u001b[39;49m])\n\u001b[1;32m     <a href='vscode-notebook-cell://codespaces%2Bbookish-happiness-q6rvpq5prv5f44q6/workspaces/learning_pyspark/data_input_output.ipynb#X22sdnNjb2RlLXJlbW90ZQ%3D%3D?line=15'>16</a>\u001b[0m data[\u001b[39m\"\u001b[39m\u001b[39msub_zone\u001b[39m\u001b[39m\"\u001b[39m]\u001b[39m=\u001b[39mdata[\u001b[39m\"\u001b[39m\u001b[39mdropoff_zone\u001b[39m\u001b[39m\"\u001b[39m]\u001b[39m.\u001b[39mapply(\u001b[39mlambda\u001b[39;00m x: split_function(x)[\u001b[39m1\u001b[39m])\n",
      "File \u001b[0;32m~/.local/lib/python3.10/site-packages/pandas/core/series.py:4760\u001b[0m, in \u001b[0;36mSeries.apply\u001b[0;34m(self, func, convert_dtype, args, by_row, **kwargs)\u001b[0m\n\u001b[1;32m   4625\u001b[0m \u001b[39mdef\u001b[39;00m \u001b[39mapply\u001b[39m(\n\u001b[1;32m   4626\u001b[0m     \u001b[39mself\u001b[39m,\n\u001b[1;32m   4627\u001b[0m     func: AggFuncType,\n\u001b[0;32m   (...)\u001b[0m\n\u001b[1;32m   4632\u001b[0m     \u001b[39m*\u001b[39m\u001b[39m*\u001b[39mkwargs,\n\u001b[1;32m   4633\u001b[0m ) \u001b[39m-\u001b[39m\u001b[39m>\u001b[39m DataFrame \u001b[39m|\u001b[39m Series:\n\u001b[1;32m   4634\u001b[0m \u001b[39m    \u001b[39m\u001b[39m\"\"\"\u001b[39;00m\n\u001b[1;32m   4635\u001b[0m \u001b[39m    Invoke function on values of Series.\u001b[39;00m\n\u001b[1;32m   4636\u001b[0m \n\u001b[0;32m   (...)\u001b[0m\n\u001b[1;32m   4751\u001b[0m \u001b[39m    dtype: float64\u001b[39;00m\n\u001b[1;32m   4752\u001b[0m \u001b[39m    \"\"\"\u001b[39;00m\n\u001b[1;32m   4753\u001b[0m     \u001b[39mreturn\u001b[39;00m SeriesApply(\n\u001b[1;32m   4754\u001b[0m         \u001b[39mself\u001b[39;49m,\n\u001b[1;32m   4755\u001b[0m         func,\n\u001b[1;32m   4756\u001b[0m         convert_dtype\u001b[39m=\u001b[39;49mconvert_dtype,\n\u001b[1;32m   4757\u001b[0m         by_row\u001b[39m=\u001b[39;49mby_row,\n\u001b[1;32m   4758\u001b[0m         args\u001b[39m=\u001b[39;49margs,\n\u001b[1;32m   4759\u001b[0m         kwargs\u001b[39m=\u001b[39;49mkwargs,\n\u001b[0;32m-> 4760\u001b[0m     )\u001b[39m.\u001b[39;49mapply()\n",
      "File \u001b[0;32m~/.local/lib/python3.10/site-packages/pandas/core/apply.py:1207\u001b[0m, in \u001b[0;36mSeriesApply.apply\u001b[0;34m(self)\u001b[0m\n\u001b[1;32m   1204\u001b[0m     \u001b[39mreturn\u001b[39;00m \u001b[39mself\u001b[39m\u001b[39m.\u001b[39mapply_compat()\n\u001b[1;32m   1206\u001b[0m \u001b[39m# self.func is Callable\u001b[39;00m\n\u001b[0;32m-> 1207\u001b[0m \u001b[39mreturn\u001b[39;00m \u001b[39mself\u001b[39;49m\u001b[39m.\u001b[39;49mapply_standard()\n",
      "File \u001b[0;32m~/.local/lib/python3.10/site-packages/pandas/core/apply.py:1287\u001b[0m, in \u001b[0;36mSeriesApply.apply_standard\u001b[0;34m(self)\u001b[0m\n\u001b[1;32m   1281\u001b[0m \u001b[39m# row-wise access\u001b[39;00m\n\u001b[1;32m   1282\u001b[0m \u001b[39m# apply doesn't have a `na_action` keyword and for backward compat reasons\u001b[39;00m\n\u001b[1;32m   1283\u001b[0m \u001b[39m# we need to give `na_action=\"ignore\"` for categorical data.\u001b[39;00m\n\u001b[1;32m   1284\u001b[0m \u001b[39m# TODO: remove the `na_action=\"ignore\"` when that default has been changed in\u001b[39;00m\n\u001b[1;32m   1285\u001b[0m \u001b[39m#  Categorical (GH51645).\u001b[39;00m\n\u001b[1;32m   1286\u001b[0m action \u001b[39m=\u001b[39m \u001b[39m\"\u001b[39m\u001b[39mignore\u001b[39m\u001b[39m\"\u001b[39m \u001b[39mif\u001b[39;00m \u001b[39misinstance\u001b[39m(obj\u001b[39m.\u001b[39mdtype, CategoricalDtype) \u001b[39melse\u001b[39;00m \u001b[39mNone\u001b[39;00m\n\u001b[0;32m-> 1287\u001b[0m mapped \u001b[39m=\u001b[39m obj\u001b[39m.\u001b[39;49m_map_values(\n\u001b[1;32m   1288\u001b[0m     mapper\u001b[39m=\u001b[39;49mcurried, na_action\u001b[39m=\u001b[39;49maction, convert\u001b[39m=\u001b[39;49m\u001b[39mself\u001b[39;49m\u001b[39m.\u001b[39;49mconvert_dtype\n\u001b[1;32m   1289\u001b[0m )\n\u001b[1;32m   1291\u001b[0m \u001b[39mif\u001b[39;00m \u001b[39mlen\u001b[39m(mapped) \u001b[39mand\u001b[39;00m \u001b[39misinstance\u001b[39m(mapped[\u001b[39m0\u001b[39m], ABCSeries):\n\u001b[1;32m   1292\u001b[0m     \u001b[39m# GH#43986 Need to do list(mapped) in order to get treated as nested\u001b[39;00m\n\u001b[1;32m   1293\u001b[0m     \u001b[39m#  See also GH#25959 regarding EA support\u001b[39;00m\n\u001b[1;32m   1294\u001b[0m     \u001b[39mreturn\u001b[39;00m obj\u001b[39m.\u001b[39m_constructor_expanddim(\u001b[39mlist\u001b[39m(mapped), index\u001b[39m=\u001b[39mobj\u001b[39m.\u001b[39mindex)\n",
      "File \u001b[0;32m~/.local/lib/python3.10/site-packages/pandas/core/base.py:921\u001b[0m, in \u001b[0;36mIndexOpsMixin._map_values\u001b[0;34m(self, mapper, na_action, convert)\u001b[0m\n\u001b[1;32m    918\u001b[0m \u001b[39mif\u001b[39;00m \u001b[39misinstance\u001b[39m(arr, ExtensionArray):\n\u001b[1;32m    919\u001b[0m     \u001b[39mreturn\u001b[39;00m arr\u001b[39m.\u001b[39mmap(mapper, na_action\u001b[39m=\u001b[39mna_action)\n\u001b[0;32m--> 921\u001b[0m \u001b[39mreturn\u001b[39;00m algorithms\u001b[39m.\u001b[39;49mmap_array(arr, mapper, na_action\u001b[39m=\u001b[39;49mna_action, convert\u001b[39m=\u001b[39;49mconvert)\n",
      "File \u001b[0;32m~/.local/lib/python3.10/site-packages/pandas/core/algorithms.py:1814\u001b[0m, in \u001b[0;36mmap_array\u001b[0;34m(arr, mapper, na_action, convert)\u001b[0m\n\u001b[1;32m   1812\u001b[0m values \u001b[39m=\u001b[39m arr\u001b[39m.\u001b[39mastype(\u001b[39mobject\u001b[39m, copy\u001b[39m=\u001b[39m\u001b[39mFalse\u001b[39;00m)\n\u001b[1;32m   1813\u001b[0m \u001b[39mif\u001b[39;00m na_action \u001b[39mis\u001b[39;00m \u001b[39mNone\u001b[39;00m:\n\u001b[0;32m-> 1814\u001b[0m     \u001b[39mreturn\u001b[39;00m lib\u001b[39m.\u001b[39;49mmap_infer(values, mapper, convert\u001b[39m=\u001b[39;49mconvert)\n\u001b[1;32m   1815\u001b[0m \u001b[39melse\u001b[39;00m:\n\u001b[1;32m   1816\u001b[0m     \u001b[39mreturn\u001b[39;00m lib\u001b[39m.\u001b[39mmap_infer_mask(\n\u001b[1;32m   1817\u001b[0m         values, mapper, mask\u001b[39m=\u001b[39misna(values)\u001b[39m.\u001b[39mview(np\u001b[39m.\u001b[39muint8), convert\u001b[39m=\u001b[39mconvert\n\u001b[1;32m   1818\u001b[0m     )\n",
      "File \u001b[0;32mlib.pyx:2920\u001b[0m, in \u001b[0;36mpandas._libs.lib.map_infer\u001b[0;34m()\u001b[0m\n",
      "\u001b[1;32m/workspaces/learning_pyspark/data_input_output.ipynb Cell 15\u001b[0m line \u001b[0;36m1\n\u001b[1;32m     <a href='vscode-notebook-cell://codespaces%2Bbookish-happiness-q6rvpq5prv5f44q6/workspaces/learning_pyspark/data_input_output.ipynb#X22sdnNjb2RlLXJlbW90ZQ%3D%3D?line=11'>12</a>\u001b[0m     \u001b[39mexcept\u001b[39;00m \u001b[39mTypeError\u001b[39;00m \u001b[39mas\u001b[39;00m te:\n\u001b[1;32m     <a href='vscode-notebook-cell://codespaces%2Bbookish-happiness-q6rvpq5prv5f44q6/workspaces/learning_pyspark/data_input_output.ipynb#X22sdnNjb2RlLXJlbW90ZQ%3D%3D?line=12'>13</a>\u001b[0m         \u001b[39mreturn\u001b[39;00m (np\u001b[39m.\u001b[39mnan,np\u001b[39m.\u001b[39mnan)\n\u001b[0;32m---> <a href='vscode-notebook-cell://codespaces%2Bbookish-happiness-q6rvpq5prv5f44q6/workspaces/learning_pyspark/data_input_output.ipynb#X22sdnNjb2RlLXJlbW90ZQ%3D%3D?line=14'>15</a>\u001b[0m data[\u001b[39m\"\u001b[39m\u001b[39marea\u001b[39m\u001b[39m\"\u001b[39m]\u001b[39m=\u001b[39mdata[\u001b[39m\"\u001b[39m\u001b[39mdropoff_zone\u001b[39m\u001b[39m\"\u001b[39m]\u001b[39m.\u001b[39mapply(\u001b[39mlambda\u001b[39;00m x:split_function(x)[\u001b[39m0\u001b[39;49m])\n\u001b[1;32m     <a href='vscode-notebook-cell://codespaces%2Bbookish-happiness-q6rvpq5prv5f44q6/workspaces/learning_pyspark/data_input_output.ipynb#X22sdnNjb2RlLXJlbW90ZQ%3D%3D?line=15'>16</a>\u001b[0m data[\u001b[39m\"\u001b[39m\u001b[39msub_zone\u001b[39m\u001b[39m\"\u001b[39m]\u001b[39m=\u001b[39mdata[\u001b[39m\"\u001b[39m\u001b[39mdropoff_zone\u001b[39m\u001b[39m\"\u001b[39m]\u001b[39m.\u001b[39mapply(\u001b[39mlambda\u001b[39;00m x: split_function(x)[\u001b[39m1\u001b[39m])\n",
      "\u001b[0;31mTypeError\u001b[0m: 'NoneType' object is not subscriptable"
     ]
    }
   ],
   "source": [
    "def split_function(x):\n",
    "    try:\n",
    "        try:\n",
    "            if type(x)!= float:\n",
    "                (v1,v2) = x.split('/')\n",
    "                return v1,v2\n",
    "        except Exception as e:\n",
    "            if type(x)!= float:\n",
    "                v1 = x.split('/')\n",
    "                v2 = np.nan\n",
    "                return v1,v2\n",
    "    except TypeError as te:\n",
    "        return (np.nan,np.nan)\n",
    "        \n",
    "data[\"area\"]=data[\"dropoff_zone\"].apply(lambda x:split_function(x)[0])\n",
    "data[\"sub_zone\"]=data[\"dropoff_zone\"].apply(lambda x: split_function(x)[1])"
   ]
  },
  {
   "cell_type": "code",
   "execution_count": 27,
   "metadata": {},
   "outputs": [],
   "source": [
    "split_col = f.split(data_spark[\"dropoff_zone\"],pattern=\"/\")\n",
    "data_spark=data_spark.withColumn(\"area\",split_col.getItem(0)).withColumn(\"sub-zone\", split_col.getItem(1))"
   ]
  },
  {
   "cell_type": "code",
   "execution_count": 28,
   "metadata": {},
   "outputs": [
    {
     "name": "stdout",
     "output_type": "stream",
     "text": [
      "+-------------------+-------------------+----------+--------+----+----+-----+-----+------+-----------+---------------+-------------------+--------------+---------------+----+----------------+\n",
      "|             pickup|            dropoff|passengers|distance|fare| tip|tolls|total| color|    payment|    pickup_zone|       dropoff_zone|pickup_borough|dropoff_borough|area|        sub-zone|\n",
      "+-------------------+-------------------+----------+--------+----+----+-----+-----+------+-----------+---------------+-------------------+--------------+---------------+----+----------------+\n",
      "|2019-03-23 20:21:09|2019-03-23 20:27:24|         1|     1.6| 7.0|2.15|  0.0|12.95|yellow|credit card|Lenox Hill West|UN/Turtle Bay South|     Manhattan|      Manhattan|  UN|Turtle Bay South|\n",
      "+-------------------+-------------------+----------+--------+----+----+-----+-----+------+-----------+---------------+-------------------+--------------+---------------+----+----------------+\n",
      "only showing top 1 row\n",
      "\n"
     ]
    }
   ],
   "source": [
    "data_spark.show(1)"
   ]
  },
  {
   "cell_type": "code",
   "execution_count": null,
   "metadata": {},
   "outputs": [],
   "source": []
  }
 ],
 "metadata": {
  "kernelspec": {
   "display_name": "Python 3",
   "language": "python",
   "name": "python3"
  },
  "language_info": {
   "codemirror_mode": {
    "name": "ipython",
    "version": 3
   },
   "file_extension": ".py",
   "mimetype": "text/x-python",
   "name": "python",
   "nbconvert_exporter": "python",
   "pygments_lexer": "ipython3",
   "version": "3.10.8"
  }
 },
 "nbformat": 4,
 "nbformat_minor": 2
}
